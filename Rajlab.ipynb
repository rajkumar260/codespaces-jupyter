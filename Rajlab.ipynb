{
  "cells": [
    {
      "cell_type": "markdown",
      "metadata": {
        "id": "view-in-github",
        "colab_type": "text"
      },
      "source": [
        "<a href=\"https://colab.research.google.com/github/rajkumar260/codespaces-jupyter/blob/Raj/Rajlab.ipynb\" target=\"_parent\"><img src=\"https://colab.research.google.com/assets/colab-badge.svg\" alt=\"Open In Colab\"/></a>"
      ]
    },
    {
      "cell_type": "code",
      "execution_count": null,
      "metadata": {
        "colab": {
          "base_uri": "https://localhost:8080/"
        },
        "id": "OPZnYzS7AOCH",
        "outputId": "22b7a1a0-b105-4ee5-e1e5-1bed26d8bbb3"
      },
      "outputs": [
        {
          "name": "stdout",
          "output_type": "stream",
          "text": [
            "Hello raj\n",
            "17\n",
            "True\n"
          ]
        },
        {
          "data": {
            "text/plain": [
              "9.8"
            ]
          },
          "execution_count": 21,
          "metadata": {},
          "output_type": "execute_result"
        }
      ],
      "source": [
        "\n",
        "print(\"Hello raj\")\n",
        "x=8\n",
        "y=9\n",
        "print(x+y)\n",
        "x>y\n",
        "print(x<y)\n",
        "x<y\n",
        "type(7.9)\n",
        "2174237489216429749027429087420749274712738927397397329072890478904790479490497498479287657448676594947492839048829742801280312974028412848971412340249123742401274\n",
        "3*3+4/5"
      ]
    },
    {
      "cell_type": "markdown",
      "metadata": {
        "id": "ZkSO-bAIzO3V"
      },
      "source": [
        "# New Section"
      ]
    },
    {
      "cell_type": "code",
      "execution_count": null,
      "metadata": {
        "colab": {
          "base_uri": "https://localhost:8080/"
        },
        "id": "-JTqAix1GVzQ",
        "outputId": "1f3d8140-35d1-4763-f529-eb56a6390bde"
      },
      "outputs": [
        {
          "data": {
            "text/plain": [
              "19"
            ]
          },
          "execution_count": 23,
          "metadata": {},
          "output_type": "execute_result"
        }
      ],
      "source": [
        "6*3+1*1+1*0"
      ]
    },
    {
      "cell_type": "code",
      "execution_count": null,
      "metadata": {
        "colab": {
          "base_uri": "https://localhost:8080/"
        },
        "id": "vAhA2lT_HlX_",
        "outputId": "ed5580db-a99f-45b8-a5d5-3c078701bb53"
      },
      "outputs": [
        {
          "name": "stdout",
          "output_type": "stream",
          "text": [
            "19\n"
          ]
        }
      ],
      "source": [
        "london_points=(6*3)+(1*1)+(2*0)\n",
        "print(london_points)\n"
      ]
    },
    {
      "cell_type": "code",
      "execution_count": null,
      "metadata": {
        "colab": {
          "base_uri": "https://localhost:8080/"
        },
        "id": "F4QK7MWbQHa6",
        "outputId": "a557a91f-3b1b-417f-fc9d-2d9647cd0cf8"
      },
      "outputs": [
        {
          "name": "stdout",
          "output_type": "stream",
          "text": [
            "x is lesser than y \n",
            "x is positive number\n"
          ]
        }
      ],
      "source": [
        "x=5\n",
        "y=8\n",
        "if(x>y):\n",
        "  print(\"x is greater than y\")\n",
        "else:\n",
        "  print(\"x is lesser than y \")\n",
        "if(x>0):\n",
        "  print(\"x is positive number\")"
      ]
    },
    {
      "cell_type": "code",
      "execution_count": null,
      "metadata": {
        "colab": {
          "base_uri": "https://localhost:8080/"
        },
        "id": "85l564h30WT4",
        "outputId": "23d9bff5-9ba0-4dba-9c92-a009a5b48d77"
      },
      "outputs": [
        {
          "name": "stdout",
          "output_type": "stream",
          "text": [
            "-6\n",
            "6\n",
            "False\n",
            "False\n",
            "True\n"
          ]
        }
      ],
      "source": [
        "x=-1\n",
        "Fn_at_minus1=x**2 + 3*x - 4\n",
        "print(Fn_at_minus1)\n",
        "x=2\n",
        "Fn_at_2=x**2 + 3*x - 4\n",
        "print(Fn_at_2)\n",
        "print(Fn_at_2==0)\n",
        "print(Fn_at_minus1==0)\n",
        "print(Fn_at_minus1==-6)"
      ]
    },
    {
      "cell_type": "code",
      "execution_count": null,
      "metadata": {
        "colab": {
          "base_uri": "https://localhost:8080/"
        },
        "id": "ueqkfkxm2Ueu",
        "outputId": "0cb45ef9-1da0-40fd-f918-2978edbb8fd8"
      },
      "outputs": [
        {
          "name": "stdout",
          "output_type": "stream",
          "text": [
            "my name is raj\n",
            "i am danger\n",
            "the total no. of count of H is1\n"
          ]
        }
      ],
      "source": [
        "Don=\"raj\"\n",
        "type(Don)\n",
        "Don=3\n",
        "type(Don)\n",
        "text=\"my name is raj\\ni am danger\"\n",
        "print(text)\n",
        "name=\"Hello im Raj\"\n",
        "len(name)\n",
        "name.count(\"H\")\n",
        "h_count=name.count(\"H\")\n",
        "\n",
        "print(\"the total no. of count of H is\"+str(h_count))"
      ]
    },
    {
      "cell_type": "code",
      "execution_count": null,
      "metadata": {
        "colab": {
          "base_uri": "https://localhost:8080/"
        },
        "id": "lfI1zKfsVAjf",
        "outputId": "124a90c5-c20e-4e08-aec7-6241a7dc49cf"
      },
      "outputs": [
        {
          "name": "stdout",
          "output_type": "stream",
          "text": [
            "[1, '23', True, False, 'RAj', 'RAj']\n",
            "[1, '23', 'Raj', False, 'RAj', 'RAj']\n"
          ]
        }
      ],
      "source": [
        "my_list=[1,\"23\",True,False,\"RAj\",\"RAj\"]\n",
        "print(my_list)\n",
        "my_list[2]=\"Raj\"\n",
        "print(my_list)"
      ]
    },
    {
      "cell_type": "code",
      "execution_count": null,
      "metadata": {
        "colab": {
          "base_uri": "https://localhost:8080/"
        },
        "id": "CsUIpX4Ic7-4",
        "outputId": "31a14ab5-94e1-4fa0-ead0-0cb0ee329d76"
      },
      "outputs": [
        {
          "data": {
            "text/plain": [
              "4"
            ]
          },
          "execution_count": 7,
          "metadata": {},
          "output_type": "execute_result"
        }
      ],
      "source": [
        "new_list=[\"raj\",0,False,True]\n",
        "len(new_list)"
      ]
    },
    {
      "cell_type": "code",
      "execution_count": null,
      "metadata": {
        "colab": {
          "base_uri": "https://localhost:8080/"
        },
        "id": "_1YA19aAdKpe",
        "outputId": "f4c0c458-cb3b-49d5-ca89-9d704ef490fa"
      },
      "outputs": [
        {
          "data": {
            "text/plain": [
              "21"
            ]
          },
          "execution_count": 10,
          "metadata": {},
          "output_type": "execute_result"
        }
      ],
      "source": [
        "new_list=[0,7,8,6]\n",
        "sum(new_list)"
      ]
    },
    {
      "cell_type": "code",
      "execution_count": null,
      "metadata": {
        "colab": {
          "base_uri": "https://localhost:8080/"
        },
        "id": "Cd6qtf76eEPW",
        "outputId": "82a2c9d6-e2ce-44d7-eab9-70745c8c4b87"
      },
      "outputs": [
        {
          "name": "stdout",
          "output_type": "stream",
          "text": [
            "5.875\n"
          ]
        }
      ],
      "source": [
        "marks=[5,5,7,9,8,4,9,0]\n",
        "average=sum(marks)/len(marks)\n",
        "print(average)"
      ]
    },
    {
      "cell_type": "code",
      "execution_count": null,
      "metadata": {
        "colab": {
          "base_uri": "https://localhost:8080/"
        },
        "id": "EUs_CZ30gnDf",
        "outputId": "ce812cdd-291b-4001-f303-d6c0636dd076"
      },
      "outputs": [
        {
          "name": "stdout",
          "output_type": "stream",
          "text": [
            "(6, 6.5)\n"
          ]
        },
        {
          "data": {
            "text/plain": [
              "12.5"
            ]
          },
          "execution_count": 18,
          "metadata": {},
          "output_type": "execute_result"
        }
      ],
      "source": [
        "my_tuple=(6,6.5)\n",
        "print(my_tuple)\n",
        "len(my_tuple)\n",
        "sum(my_tuple)"
      ]
    },
    {
      "cell_type": "code",
      "execution_count": null,
      "metadata": {
        "colab": {
          "base_uri": "https://localhost:8080/"
        },
        "id": "kb4UZ8iHTXh_",
        "outputId": "6c7bf92a-8912-4ffa-84d4-3dc6ea111f31"
      },
      "outputs": [
        {
          "name": "stdout",
          "output_type": "stream",
          "text": [
            "{'Name': 'Raj', 'Roll no.': 21, 'DOB': 2000}\n",
            "{'Name': 'Rajkumar', 'Roll no.': 21, 'DOB': 1999}\n"
          ]
        },
        {
          "data": {
            "text/plain": [
              "['Rajkumar', 21, 1999]"
            ]
          },
          "execution_count": 22,
          "metadata": {},
          "output_type": "execute_result"
        }
      ],
      "source": [
        "Student_info={\"Name\":\"Raj\",\"Roll no.\":21,\"DOB\":2000}\n",
        "print(Student_info)\n",
        "Student_info[\"DOB\"]\n",
        "Student_info[\"Name\"]\n",
        "Student_info[\"Roll no.\"]\n",
        "len(Student_info)\n",
        "type(Student_info)\n",
        "Student_info[\"Name\"]=Student_info[\"Name\"]   +  \"kumar\"\n",
        "Student_info[\"Name\"]\n",
        "Student_info['DOB']=1999\n",
        "Student_info['DOB']\n",
        "print(Student_info)\n",
        "Student_info.keys()\n",
        "Student_info.values()\n",
        "list(Student_info.values())"
      ]
    },
    {
      "cell_type": "code",
      "execution_count": null,
      "metadata": {
        "colab": {
          "base_uri": "https://localhost:8080/"
        },
        "id": "bzFaofr5chRO",
        "outputId": "8d9d90d5-8e65-4fe8-a1c7-405d1e2d45a6"
      },
      "outputs": [
        {
          "name": "stdout",
          "output_type": "stream",
          "text": [
            "{'Mango': 2, 'Guava': 2, 'Apple': 1, 'Grapes': 1}\n"
          ]
        }
      ],
      "source": [
        "fruits = ['Mango', 'Mango', 'Guava', 'Apple', 'Grapes', 'Guava']\n",
        "fruit_ = {}\n",
        "fruit_['Mango'] = fruits.count('Mango')\n",
        "fruit_['Guava'] = fruits.count('Guava')\n",
        "fruit_['Apple'] = fruits.count('Apple')\n",
        "fruit_['Grapes'] = fruits.count('Grapes')\n",
        "print(fruit_)\n",
        "\n",
        "\n",
        "\n",
        "\n",
        "\n",
        "\n",
        "\n",
        "\n",
        "\n",
        "\n"
      ]
    },
    {
      "cell_type": "code",
      "execution_count": null,
      "metadata": {
        "colab": {
          "base_uri": "https://localhost:8080/"
        },
        "id": "tsKbLEI9N7AW",
        "outputId": "884a379b-9522-4a04-df9f-bdd5d90a5b50"
      },
      "outputs": [
        {
          "name": "stdout",
          "output_type": "stream",
          "text": [
            "R\n",
            "a\n",
            "j\n",
            " \n",
            "u\n",
            " \n",
            "+\n"
          ]
        }
      ],
      "source": [
        "name=\"Raj Kumar\"\n",
        "print(name[0])\n",
        "print(name[1])\n",
        "print(name[2])\n",
        "print(name[3])\n",
        "print(name[5])\n",
        "print(name[-6])\n",
        "number=\"123456_=+}|{:}\"\n",
        "print(number[8])"
      ]
    },
    {
      "cell_type": "code",
      "execution_count": null,
      "metadata": {
        "colab": {
          "base_uri": "https://localhost:8080/"
        },
        "id": "7OppYc1hURQ7",
        "outputId": "b34f7e48-d7ab-4a5d-ccaa-a995806f6e05"
      },
      "outputs": [
        {
          "name": "stdout",
          "output_type": "stream",
          "text": [
            "1\n",
            "2\n",
            "Raj\n",
            "Thomas\n",
            "Thomas\n"
          ]
        }
      ],
      "source": [
        "my_tuple=(1,2,\"Raj\",\"Thomas\")\n",
        "print(my_tuple[0])\n",
        "print(my_tuple[1])\n",
        "print(my_tuple[2])\n",
        "print(my_tuple[3])\n",
        "print(my_tuple[-1])\n"
      ]
    },
    {
      "cell_type": "code",
      "execution_count": null,
      "metadata": {
        "colab": {
          "base_uri": "https://localhost:8080/"
        },
        "id": "xhPQAkQvW-aD",
        "outputId": "fe9c1c4b-a197-49d3-cc6e-ced572a65288"
      },
      "outputs": [
        {
          "name": "stdout",
          "output_type": "stream",
          "text": [
            "raj\n",
            "Thomas\n",
            "Mason\n",
            "2\n",
            "2\n",
            "['raj', 45, 'Mason', 2]\n"
          ]
        },
        {
          "data": {
            "text/plain": [
              "3"
            ]
          },
          "execution_count": 25,
          "metadata": {},
          "output_type": "execute_result"
        }
      ],
      "source": [
        "my_list=[\"raj\",\"Thomas\",\"Mason\",2]\n",
        "print(my_list[0])\n",
        "print(my_list[1])\n",
        "print(my_list[2])\n",
        "print(my_list[3])\n",
        "print(my_list[3])\n",
        "my_list[1]=45\n",
        "print(my_list)\n",
        "my_list.index(\"raj\")\n",
        "my_list.index(2)"
      ]
    },
    {
      "cell_type": "code",
      "execution_count": null,
      "metadata": {
        "colab": {
          "base_uri": "https://localhost:8080/"
        },
        "id": "R9_VNgcrzBpg",
        "outputId": "943d41ef-5124-4532-d218-52d69b9bbc23"
      },
      "outputs": [
        {
          "name": "stdout",
          "output_type": "stream",
          "text": [
            "raj\n",
            "23\n"
          ]
        }
      ],
      "source": [
        "my_dict={\"name\":\"raj\",\"age\":23}\n",
        "print(my_dict[\"name\"])\n",
        "print(my_dict[\"age\"])"
      ]
    },
    {
      "cell_type": "code",
      "execution_count": null,
      "metadata": {
        "colab": {
          "base_uri": "https://localhost:8080/",
          "height": 35
        },
        "id": "IxH4kXyJ9NIg",
        "outputId": "9e6ac237-2a7e-464c-f6b3-6a2f29c4ce56"
      },
      "outputs": [
        {
          "data": {
            "application/vnd.google.colaboratory.intrinsic+json": {
              "type": "string"
            },
            "text/plain": [
              "''"
            ]
          },
          "execution_count": 15,
          "metadata": {},
          "output_type": "execute_result"
        }
      ],
      "source": [
        "name=\"raja\"\n",
        "name[1:3]\n",
        "name[:]\n",
        "name[0:2]\n",
        "name[-4:-2]\n",
        "name[:3]\n",
        "name[3:]\n",
        "name[-2:-4]\n",
        "name[-1:2]\n"
      ]
    },
    {
      "cell_type": "code",
      "execution_count": null,
      "metadata": {
        "id": "dRGK-Ftpzsl4"
      },
      "outputs": [],
      "source": []
    },
    {
      "cell_type": "code",
      "execution_count": null,
      "metadata": {
        "colab": {
          "base_uri": "https://localhost:8080/",
          "height": 35
        },
        "id": "lOEWzcAdC4L3",
        "outputId": "d9492f15-39e5-4447-ae9a-5fc376f39a89"
      },
      "outputs": [
        {
          "data": {
            "application/vnd.google.colaboratory.intrinsic+json": {
              "type": "string"
            },
            "text/plain": [
              "'ebu'"
            ]
          },
          "execution_count": 19,
          "metadata": {},
          "output_type": "execute_result"
        }
      ],
      "source": [
        "var=\"umbrella\"\n",
        "var[0::3]\n",
        "var[0::2]\n",
        "var[::2]\n",
        "var[-4::-2]"
      ]
    },
    {
      "cell_type": "code",
      "execution_count": null,
      "metadata": {
        "colab": {
          "base_uri": "https://localhost:8080/",
          "height": 35
        },
        "id": "rnYapEJxTQnm",
        "outputId": "f2997761-b6fc-43c8-9e04-53814fa6a897"
      },
      "outputs": [
        {
          "data": {
            "application/vnd.google.colaboratory.intrinsic+json": {
              "type": "string"
            },
            "text/plain": [
              "''"
            ]
          },
          "execution_count": 1,
          "metadata": {},
          "output_type": "execute_result"
        }
      ],
      "source": [
        "var=\"computer\"\n",
        "var[2:3:-2]"
      ]
    },
    {
      "cell_type": "code",
      "execution_count": null,
      "metadata": {
        "colab": {
          "base_uri": "https://localhost:8080/",
          "height": 35
        },
        "id": "d4KQ9MW-ZGHI",
        "outputId": "8a95b648-9bc5-478b-841e-12af469d82e1"
      },
      "outputs": [
        {
          "data": {
            "application/vnd.google.colaboratory.intrinsic+json": {
              "type": "string"
            },
            "text/plain": [
              "''"
            ]
          },
          "execution_count": 5,
          "metadata": {},
          "output_type": "execute_result"
        }
      ],
      "source": [
        "text=\"Computer\"\n",
        "text[0:3:1]\n",
        "text[-5:-2:-1]"
      ]
    },
    {
      "cell_type": "code",
      "execution_count": null,
      "metadata": {
        "colab": {
          "base_uri": "https://localhost:8080/",
          "height": 35
        },
        "id": "WK4FGSokgGwu",
        "outputId": "6cfbf093-b2fa-4ca5-9fd4-42d9528e0a5e"
      },
      "outputs": [
        {
          "data": {
            "application/vnd.google.colaboratory.intrinsic+json": {
              "type": "string"
            },
            "text/plain": [
              "'yget'"
            ]
          },
          "execution_count": 6,
          "metadata": {},
          "output_type": "execute_result"
        }
      ],
      "source": [
        "var=\"strategy\"\n",
        "var[-1:-5:-1]"
      ]
    },
    {
      "cell_type": "code",
      "execution_count": null,
      "metadata": {
        "colab": {
          "base_uri": "https://localhost:8080/",
          "height": 35
        },
        "id": "Nz05Xtvoi3n9",
        "outputId": "76d18044-b814-40df-a9e1-cf5f1b65984b"
      },
      "outputs": [
        {
          "data": {
            "application/vnd.google.colaboratory.intrinsic+json": {
              "type": "string"
            },
            "text/plain": [
              "'noht'"
            ]
          },
          "execution_count": 11,
          "metadata": {},
          "output_type": "execute_result"
        }
      ],
      "source": [
        "var=\"python\"\n",
        "var[-1:-5:-1]"
      ]
    },
    {
      "cell_type": "code",
      "execution_count": null,
      "metadata": {
        "colab": {
          "base_uri": "https://localhost:8080/",
          "height": 35
        },
        "id": "jSG_Oy_Slf_0",
        "outputId": "27d612b2-1352-4755-d330-0f117171a316"
      },
      "outputs": [
        {
          "data": {
            "application/vnd.google.colaboratory.intrinsic+json": {
              "type": "string"
            },
            "text/plain": [
              "'ajn'"
            ]
          },
          "execution_count": 12,
          "metadata": {},
          "output_type": "execute_result"
        }
      ],
      "source": [
        "var=\"Ranjan\"\n",
        "var[1: :2]"
      ]
    },
    {
      "cell_type": "code",
      "execution_count": null,
      "metadata": {
        "colab": {
          "base_uri": "https://localhost:8080/"
        },
        "id": "LmTgOCSpFFJC",
        "outputId": "7dd8a41f-93d5-4ce8-8300-713989b9a3dc"
      },
      "outputs": [
        {
          "name": "stdout",
          "output_type": "stream",
          "text": [
            "True\n"
          ]
        },
        {
          "data": {
            "text/plain": [
              "140074095313264"
            ]
          },
          "execution_count": 2,
          "metadata": {},
          "output_type": "execute_result"
        }
      ],
      "source": [
        "a=5\n",
        "b=a\n",
        "print(a is b)\n",
        "id(a)"
      ]
    },
    {
      "cell_type": "code",
      "execution_count": null,
      "metadata": {
        "colab": {
          "base_uri": "https://localhost:8080/"
        },
        "id": "X_9Pk102MtpX",
        "outputId": "c7a066bc-3735-44bd-b72f-a215550dbf4d"
      },
      "outputs": [
        {
          "name": "stdout",
          "output_type": "stream",
          "text": [
            "True\n",
            "False\n",
            "True\n",
            "False\n"
          ]
        }
      ],
      "source": [
        "text=\"Hey I am here\"\n",
        "print(\"Hey\"in text)\n",
        "print(\"Raj\"in text)\n",
        "print(\"Raj\"not in text)\n",
        "print(\"am\"not in text)"
      ]
    },
    {
      "cell_type": "code",
      "execution_count": null,
      "metadata": {
        "colab": {
          "base_uri": "https://localhost:8080/"
        },
        "id": "xpveUT-9Xi8V",
        "outputId": "0ab4a91e-bd6c-4da2-9368-ab0399c454db"
      },
      "outputs": [
        {
          "name": "stdout",
          "output_type": "stream",
          "text": [
            "What is your nameraj\n",
            "My name israj!\n"
          ]
        }
      ],
      "source": [
        "name=input(\"What is your name\")\n",
        "print(\"My name is\"+ name+\"!\")"
      ]
    },
    {
      "cell_type": "code",
      "execution_count": null,
      "metadata": {
        "colab": {
          "base_uri": "https://localhost:8080/"
        },
        "id": "b3daHfKhSdSg",
        "outputId": "9f01266b-117f-4396-ea55-36049ffa31b2"
      },
      "outputs": [
        {
          "name": "stdout",
          "output_type": "stream",
          "text": [
            "enter the Number12\n",
            "22\n"
          ]
        }
      ],
      "source": [
        "number= int(input(\"enter the Number\"))\n",
        "Sum= (number)+10\n",
        "print(Sum)"
      ]
    },
    {
      "cell_type": "code",
      "execution_count": null,
      "metadata": {
        "colab": {
          "base_uri": "https://localhost:8080/"
        },
        "id": "lKaDtXblmNIU",
        "outputId": "c11fd5a0-6608-4edf-f11e-f2eee02cc903"
      },
      "outputs": [
        {
          "name": "stdout",
          "output_type": "stream",
          "text": [
            "enter your age22\n",
            "<class 'str'>\n",
            "<class 'int'>\n",
            "you will be 23next year\n"
          ]
        }
      ],
      "source": [
        "age_str=input(\"enter your age\")\n",
        "print(type(age_str))\n",
        "age=int(age_str)\n",
        "print(type(age))\n",
        "print(\"you will be \"+ str(age+1) + \"next year\")"
      ]
    },
    {
      "cell_type": "code",
      "execution_count": null,
      "metadata": {
        "colab": {
          "base_uri": "https://localhost:8080/"
        },
        "id": "-YEpLF7rrZ3W",
        "outputId": "5b78a949-3eb4-406d-8596-e9c49d6eff80"
      },
      "outputs": [
        {
          "name": "stdout",
          "output_type": "stream",
          "text": [
            "enter a number:\n",
            "2\n",
            "4\n"
          ]
        }
      ],
      "source": [
        "number=input(\"enter a number:\\n\")\n",
        "result=int(number)*2\n",
        "print(result)\n"
      ]
    },
    {
      "cell_type": "code",
      "execution_count": null,
      "metadata": {
        "colab": {
          "base_uri": "https://localhost:8080/"
        },
        "id": "Ka0kPDJlIs0_",
        "outputId": "a6b6f20a-37c5-4739-902a-4e92e415f5a8"
      },
      "outputs": [
        {
          "name": "stdout",
          "output_type": "stream",
          "text": [
            "4\n",
            "1\n",
            "['raj', 1, 8, 4, 5]\n"
          ]
        }
      ],
      "source": [
        "my_list=[\"raj\",1,8,4]\n",
        "print(len(my_list))\n",
        "index=my_list.index(1)\n",
        "print(index)\n",
        "my_list.append(5)\n",
        "print(my_list)"
      ]
    },
    {
      "cell_type": "code",
      "execution_count": null,
      "metadata": {
        "colab": {
          "base_uri": "https://localhost:8080/",
          "height": 166
        },
        "id": "MhmqWZwz5BXz",
        "outputId": "c1727aae-eec7-4c70-997d-15a056bf34aa"
      },
      "outputs": [
        {
          "ename": "NameError",
          "evalue": "ignored",
          "output_type": "error",
          "traceback": [
            "\u001b[0;31m---------------------------------------------------------------------------\u001b[0m",
            "\u001b[0;31mNameError\u001b[0m                                 Traceback (most recent call last)",
            "\u001b[0;32m<ipython-input-1-dbff98f5103f>\u001b[0m in \u001b[0;36m<cell line: 1>\u001b[0;34m()\u001b[0m\n\u001b[0;32m----> 1\u001b[0;31m \u001b[0mmy_list\u001b[0m\u001b[0;34m.\u001b[0m\u001b[0mappend\u001b[0m\u001b[0;34m(\u001b[0m\u001b[0;36m5\u001b[0m\u001b[0;34m)\u001b[0m\u001b[0;34m\u001b[0m\u001b[0;34m\u001b[0m\u001b[0m\n\u001b[0m",
            "\u001b[0;31mNameError\u001b[0m: name 'my_list' is not defined"
          ]
        }
      ],
      "source": []
    },
    {
      "cell_type": "code",
      "execution_count": null,
      "metadata": {
        "colab": {
          "base_uri": "https://localhost:8080/"
        },
        "id": "-fc5s8aK5-y2",
        "outputId": "19cf22b8-8c15-4b9c-98de-dfe54bd07d2e"
      },
      "outputs": [
        {
          "name": "stdout",
          "output_type": "stream",
          "text": [
            "{'name': 'Ankit', 'Age': 22}\n"
          ]
        }
      ],
      "source": [
        "my_dict={\"name\":\"Raj\",\"Age\":22}\n",
        "my_dict.update({\"name\":\"Ankit\"})\n",
        "print(my_dict)"
      ]
    },
    {
      "cell_type": "code",
      "execution_count": null,
      "metadata": {
        "colab": {
          "base_uri": "https://localhost:8080/"
        },
        "id": "XRY2S7RI8RJr",
        "outputId": "db38e1e8-9aee-427a-c4f6-ed027d64d548"
      },
      "outputs": [
        {
          "name": "stdout",
          "output_type": "stream",
          "text": [
            "Raj\n"
          ]
        }
      ],
      "source": [
        "my_string=\"Raj\"\n",
        "my_string.replace(\"python\",\"Raj\")\n",
        "print(my_string)"
      ]
    },
    {
      "cell_type": "code",
      "execution_count": null,
      "metadata": {
        "colab": {
          "base_uri": "https://localhost:8080/"
        },
        "id": "TB5jBseEb1Fr",
        "outputId": "4e3991e3-de5e-4d6c-e06c-fc523c945eaa"
      },
      "outputs": [
        {
          "name": "stdout",
          "output_type": "stream",
          "text": [
            "Enter the number:78\n",
            "number is even\n"
          ]
        }
      ],
      "source": [
        "number=input(\"Enter the number:\")\n",
        "if(int(number) % 2 == 0):\n",
        "  print(\"number is even\")\n",
        "else:\n",
        "  print(\"number is odd\")\n"
      ]
    },
    {
      "cell_type": "code",
      "execution_count": null,
      "metadata": {
        "id": "nf0olbaW9y1m"
      },
      "outputs": [],
      "source": [
        "a=5\n",
        "b=5\n",
        "if(a==b):\n",
        "  pass\n",
        "else:\n",
        "  print(\"Raj\")"
      ]
    },
    {
      "cell_type": "code",
      "execution_count": null,
      "metadata": {
        "colab": {
          "base_uri": "https://localhost:8080/"
        },
        "id": "4dFZu3RkHks3",
        "outputId": "7a16c72e-a7e1-447e-ad43-c3fd5400f8fe"
      },
      "outputs": [
        {
          "name": "stdout",
          "output_type": "stream",
          "text": [
            "enter your age34\n",
            "plz pay Rs 100\n"
          ]
        }
      ],
      "source": [
        "age=int(input(\"enter your age\"))\n",
        "if(age<5):\n",
        "  print(\"U will get free movie tickets\")\n",
        "elif(age<=12):\n",
        "  print(\"Plz pay Rs 50\")\n",
        "elif(age<=64):\n",
        "  print(\"plz pay Rs 100\")\n",
        "elif(age>65):\n",
        "  print(\"Plz pay Rs 70\")\n"
      ]
    },
    {
      "cell_type": "code",
      "execution_count": null,
      "metadata": {
        "colab": {
          "base_uri": "https://localhost:8080/"
        },
        "id": "eikKQJUJzrph",
        "outputId": "6dc959f7-3ad2-4016-b28d-95e87606f59b"
      },
      "outputs": [
        {
          "name": "stdout",
          "output_type": "stream",
          "text": [
            "I am raj\n",
            "I am dhiraj\n"
          ]
        }
      ],
      "source": [
        "a=1\n",
        "b=1\n",
        "c=0\n",
        "if a>0:\n",
        "  print(\"I am raj\")\n",
        "  if b>0:\n",
        "    print(\"I am dhiraj\")\n",
        "    if c>0:\n",
        "      print(\"i am chandan\")"
      ]
    },
    {
      "cell_type": "code",
      "execution_count": null,
      "metadata": {
        "colab": {
          "base_uri": "https://localhost:8080/"
        },
        "id": "6RW99aTmlDfg",
        "outputId": "34e0f9e7-777f-4e8b-99ef-9b2480d29b67"
      },
      "outputs": [
        {
          "name": "stdout",
          "output_type": "stream",
          "text": [
            "[1, 4, 9, 16, 25]\n",
            "5\n"
          ]
        }
      ],
      "source": [
        "number_list=[1,2,3,4,5]\n",
        "result_list=[]\n",
        "counter=0\n",
        "for number in number_list:\n",
        "  result=number**2\n",
        "  result_list.append(result)\n",
        "  counter=counter+1\n",
        "print(result_list)\n",
        "print(counter)\n"
      ]
    },
    {
      "cell_type": "code",
      "execution_count": null,
      "metadata": {
        "colab": {
          "base_uri": "https://localhost:8080/"
        },
        "id": "mL9c_BZM3-UR",
        "outputId": "ac461db9-745f-4795-a63f-d9c3c455b4fc"
      },
      "outputs": [
        {
          "name": "stdout",
          "output_type": "stream",
          "text": [
            "5\n",
            "10\n",
            "15\n",
            "20\n",
            "25\n",
            "30\n",
            "35\n",
            "40\n",
            "45\n",
            "50\n"
          ]
        }
      ],
      "source": [
        "for n in range(1,11):\n",
        "  print(5*n)"
      ]
    },
    {
      "cell_type": "code",
      "execution_count": null,
      "metadata": {
        "colab": {
          "base_uri": "https://localhost:8080/"
        },
        "id": "FWrIZ39H4ZB3",
        "outputId": "c931dba7-4230-4f56-9a2d-47f24c7b6eef"
      },
      "outputs": [
        {
          "name": "stdout",
          "output_type": "stream",
          "text": [
            "5* 1 = 5\n",
            "5* 2 = 10\n",
            "5* 3 = 15\n",
            "5* 4 = 20\n",
            "5* 5 = 25\n",
            "5* 6 = 30\n",
            "5* 7 = 35\n",
            "5* 8 = 40\n",
            "5* 9 = 45\n",
            "5* 10 = 50\n"
          ]
        }
      ],
      "source": [
        "for n in range(1,11):\n",
        "  print(\"5*\",n,\"=\",5*n)"
      ]
    },
    {
      "cell_type": "code",
      "execution_count": null,
      "metadata": {
        "colab": {
          "base_uri": "https://localhost:8080/"
        },
        "id": "OaWKq7tV7xu2",
        "outputId": "6b531f76-8447-4b99-82e5-b545d243263d"
      },
      "outputs": [
        {
          "name": "stdout",
          "output_type": "stream",
          "text": [
            "\n",
            "*\n",
            "**\n",
            "***\n",
            "****\n"
          ]
        }
      ],
      "source": [
        "for i in range(5):\n",
        "  char= \"*\"\n",
        "  print(char*i)\n"
      ]
    },
    {
      "cell_type": "code",
      "execution_count": null,
      "metadata": {
        "id": "abpQS3Yp7wlK"
      },
      "outputs": [],
      "source": []
    },
    {
      "cell_type": "code",
      "execution_count": null,
      "metadata": {
        "colab": {
          "base_uri": "https://localhost:8080/"
        },
        "id": "ne1OMuNd8HAK",
        "outputId": "6962aa8b-6c9f-40be-d836-8ac5a1afc55f"
      },
      "outputs": [
        {
          "name": "stdout",
          "output_type": "stream",
          "text": [
            "****\n",
            "***\n",
            "**\n",
            "*\n"
          ]
        }
      ],
      "source": [
        "for i in range(4,0,-1):\n",
        "  char=\"*\"\n",
        "  print(char*i)"
      ]
    },
    {
      "cell_type": "code",
      "execution_count": null,
      "metadata": {
        "colab": {
          "base_uri": "https://localhost:8080/"
        },
        "id": "oVqdjaSm-lxj",
        "outputId": "034fa9d5-f5c9-45c3-e432-036ee9db409a"
      },
      "outputs": [
        {
          "name": "stdout",
          "output_type": "stream",
          "text": [
            "48\n",
            "16\n"
          ]
        }
      ],
      "source": [
        "\n",
        "b=6\n",
        "print(a*b)\n",
        "b=2\n",
        "print(a*b)"
      ]
    },
    {
      "cell_type": "code",
      "execution_count": null,
      "metadata": {
        "colab": {
          "base_uri": "https://localhost:8080/"
        },
        "id": "k96Eh5itAex7",
        "outputId": "14f313ea-57e4-443c-ca32-ec69468eeabe"
      },
      "outputs": [
        {
          "name": "stdout",
          "output_type": "stream",
          "text": [
            "4\n",
            "16\n",
            "36\n",
            "64\n",
            "100\n"
          ]
        }
      ],
      "source": [
        "for i in range(2,11,2):\n",
        "  print(i**2)"
      ]
    },
    {
      "cell_type": "code",
      "execution_count": null,
      "metadata": {
        "colab": {
          "base_uri": "https://localhost:8080/"
        },
        "id": "DmBPVC2nCjWr",
        "outputId": "5ebea7eb-972b-40f0-ce20-7068554edd84"
      },
      "outputs": [
        {
          "name": "stdout",
          "output_type": "stream",
          "text": [
            "1\n",
            "2\n",
            "3\n",
            "4\n"
          ]
        }
      ],
      "source": [
        "for i in range(1,10):\n",
        "  if i==5:\n",
        "    break\n",
        "  print(i)"
      ]
    },
    {
      "cell_type": "code",
      "execution_count": null,
      "metadata": {
        "colab": {
          "base_uri": "https://localhost:8080/"
        },
        "id": "ud-ayro0IF4_",
        "outputId": "057a8cdd-97e6-42fa-d0de-947b130e10ac"
      },
      "outputs": [
        {
          "name": "stdout",
          "output_type": "stream",
          "text": [
            "1\n",
            "hello i am raj\n",
            "2\n",
            "hello i am raj\n",
            "3\n",
            "hello i am raj\n",
            "4\n",
            "5\n",
            "hello i am raj\n"
          ]
        }
      ],
      "source": [
        "for i in range(1,6):\n",
        "  print(i)\n",
        "  if i==4:\n",
        "    continue\n",
        "  print(\"hello i am raj\")"
      ]
    },
    {
      "cell_type": "code",
      "execution_count": null,
      "metadata": {
        "colab": {
          "base_uri": "https://localhost:8080/"
        },
        "id": "LSQgw7kRK1XA",
        "outputId": "00e5582d-e68e-4b94-9b14-3e1a2dcb6c57"
      },
      "outputs": [
        {
          "name": "stdout",
          "output_type": "stream",
          "text": [
            "4\n",
            "9\n",
            "16\n",
            "25\n",
            "36\n",
            "49\n",
            "64\n",
            "81\n",
            "100\n",
            "121\n",
            "144\n",
            "169\n",
            "196\n",
            "225\n",
            "256\n",
            "289\n",
            "324\n",
            "361\n",
            "400\n",
            "441\n",
            "484\n"
          ]
        }
      ],
      "source": [
        "for i in range(2,40):\n",
        "  square=i**2\n",
        "  if square<500:\n",
        "    print(square)\n",
        "  else:\n",
        "    break\n"
      ]
    },
    {
      "cell_type": "code",
      "execution_count": null,
      "metadata": {
        "colab": {
          "base_uri": "https://localhost:8080/"
        },
        "id": "bkHpUnwVb84r",
        "outputId": "dc1acf30-ba3d-47ee-fe90-96824009e570"
      },
      "outputs": [
        {
          "name": "stdout",
          "output_type": "stream",
          "text": [
            "20\n"
          ]
        }
      ],
      "source": [
        "numbers=[12,7,8,15,20,10,45]\n",
        "largest_even=0\n",
        "for number in numbers:\n",
        "  if number%2 ==0:\n",
        "    if number> largest_even:\n",
        "      largest_even= number\n",
        "print(largest_even)"
      ]
    },
    {
      "cell_type": "code",
      "execution_count": null,
      "metadata": {
        "colab": {
          "base_uri": "https://localhost:8080/"
        },
        "id": "-8agzQ47g9Hv",
        "outputId": "1bdc9b7e-b2cc-44de-e598-8865456fdc1e"
      },
      "outputs": [
        {
          "name": "stdout",
          "output_type": "stream",
          "text": [
            "Raj\n",
            "Raj\n",
            "Raj\n",
            "Raj\n",
            "Raj\n",
            "Raj\n",
            "Raj\n",
            "Raj\n",
            "Raj\n",
            "Raj\n"
          ]
        }
      ],
      "source": [
        "i=1\n",
        "while i<=10:\n",
        "  print(\"Raj\")\n",
        "  i=i+1\n"
      ]
    },
    {
      "cell_type": "code",
      "execution_count": null,
      "metadata": {
        "colab": {
          "base_uri": "https://localhost:8080/"
        },
        "id": "KAe4stDu3Nn-",
        "outputId": "988331cb-6052-4d01-8a09-a81647e291a7"
      },
      "outputs": [
        {
          "name": "stdout",
          "output_type": "stream",
          "text": [
            "18\n"
          ]
        }
      ],
      "source": [
        "in_list=[12,17,18,8,9,6,5]\n",
        "i=0\n",
        "largest_even=0\n",
        "while i<len(in_list):\n",
        "  if (in_list[i]%2==0):\n",
        "    if (in_list[i]>=largest_even):\n",
        "      largest_even=in_list[i]\n",
        "  i+=1\n",
        "print(largest_even)\n"
      ]
    },
    {
      "cell_type": "code",
      "execution_count": null,
      "metadata": {
        "colab": {
          "base_uri": "https://localhost:8080/"
        },
        "id": "QGI7lokgueh-",
        "outputId": "58a34306-dbf2-4b5e-dcc3-d84464cff0dd"
      },
      "outputs": [
        {
          "data": {
            "text/plain": [
              "108"
            ]
          },
          "execution_count": 2,
          "metadata": {},
          "output_type": "execute_result"
        }
      ],
      "source": [
        "def add_two_numbers(num1,num2):\n",
        "  \"\"\"\n",
        "  This function wll add two numbers\n",
        "  Parameters:\n",
        "   num1: First integer\n",
        "   num2: Second integer\n",
        "  Return:\n",
        "    result: The sum of two numbers\n",
        "  \"\"\"\n",
        "  result = num1+num2\n",
        "  return result\n",
        "add_two_numbers(10,20)\n",
        "add_two_numbers(76,32)"
      ]
    },
    {
      "cell_type": "code",
      "execution_count": null,
      "metadata": {
        "id": "yqPR9Iu6vrL4"
      },
      "outputs": [],
      "source": [
        "def reverse_string(String_input):\n",
        "  \"\"\"\n",
        "  This function will reverse string.\n",
        "  Parameters:\n",
        "   String_inout: Any string as input\n",
        "  Return:\n",
        "   result: Reversed string\n",
        "  \"\"\"\n",
        "  reverse= String_input[::-1]\n",
        "  return reverse\n",
        "\n",
        "  my_string = \"Hello World\"\n",
        "  reversed_string = reverse_string(my_string)\n",
        "  print(reversed_string)\n"
      ]
    },
    {
      "cell_type": "code",
      "execution_count": null,
      "metadata": {
        "colab": {
          "base_uri": "https://localhost:8080/"
        },
        "id": "MWyZ0J5rUMCx",
        "outputId": "e2377ec4-9d17-4b38-fe22-05c0a915fe1f"
      },
      "outputs": [
        {
          "name": "stdout",
          "output_type": "stream",
          "text": [
            "I am  Ironman\n",
            "I have Power of 3000\n",
            "Red\n",
            "3000\n"
          ]
        }
      ],
      "source": [
        "class Superhero:\n",
        "  def __init__(self,Name,Power,Color):\n",
        "    self.Name=Name\n",
        "    self.Power=Power\n",
        "    self.Color=Color\n",
        "  def greet(self):\n",
        "    print(\"I am \",self.Name)\n",
        "  def strength(self):\n",
        "    print(\"I have Power of\",self.Power)\n",
        "Fav_Superhero =Superhero(\"Ironman\",3000,\"Red\")\n",
        "Fav_Superhero.greet()\n",
        "Fav_Superhero.strength()\n",
        "print(Fav_Superhero.Color)\n",
        "print(Fav_Superhero.Power)\n"
      ]
    },
    {
      "cell_type": "code",
      "execution_count": null,
      "metadata": {
        "colab": {
          "base_uri": "https://localhost:8080/"
        },
        "id": "MmPfGK4DG1kD",
        "outputId": "82cf3c3f-2838-4a82-d64f-e1a17bdf49a6"
      },
      "outputs": [
        {
          "name": "stdout",
          "output_type": "stream",
          "text": [
            "5\n",
            "-1\n",
            "2.0\n"
          ]
        }
      ],
      "source": [
        "class Calculator:\n",
        "  def __init__(self):\n",
        "    self.result=0\n",
        "  def add(self,a,b):\n",
        "    self.result=a+b\n",
        "    return self.result\n",
        "  def subtract(self,a,b):\n",
        "    self.result=a-b\n",
        "    return self.result\n",
        "  def multiply(self,a,b):\n",
        "    self.result=a*b\n",
        "    return self.result\n",
        "  def Divide(self,a,b):\n",
        "    if b==0:\n",
        "      raise ValueError(\"Cannot divide by zero\")\n",
        "    self.result=a/b\n",
        "    return self.result\n",
        "  def Clear(self):\n",
        "    self.result=0\n",
        "    return self.result\n",
        "Calc=Calculator()\n",
        "Addition=Calc.add(2,3)\n",
        "Subtraction=Calc.subtract(5,6)\n",
        "Division=Calc.Divide(4,2)\n",
        "print(Addition)\n",
        "print(Subtraction)\n",
        "print(Division)\n",
        "\n"
      ]
    },
    {
      "cell_type": "code",
      "execution_count": null,
      "metadata": {
        "colab": {
          "base_uri": "https://localhost:8080/"
        },
        "id": "IeG0BDv0xmQz",
        "outputId": "85acbd17-3608-4353-8074-a8496f60ed9a"
      },
      "outputs": [
        {
          "name": "stdout",
          "output_type": "stream",
          "text": [
            "**"
          ]
        }
      ],
      "source": [
        "print(\"*\",end='')\n",
        "print(\"*\",end=\"\")"
      ]
    },
    {
      "cell_type": "code",
      "execution_count": null,
      "metadata": {
        "colab": {
          "base_uri": "https://localhost:8080/"
        },
        "id": "Ftvw1FU9RQio",
        "outputId": "90dde523-710b-4b0b-c310-db5ae1e2c0f5"
      },
      "outputs": [
        {
          "name": "stdout",
          "output_type": "stream",
          "text": [
            "@ @ @ @ @ @ @ @ @ "
          ]
        }
      ],
      "source": [
        "for i in range (1,10):\n",
        "  print(\"@\",end=\" \")"
      ]
    },
    {
      "cell_type": "code",
      "execution_count": null,
      "metadata": {
        "colab": {
          "base_uri": "https://localhost:8080/"
        },
        "id": "Knil2uM8R2NV",
        "outputId": "b7eb8d0b-7d84-44f6-bc38-482151f39f7d"
      },
      "outputs": [
        {
          "name": "stdout",
          "output_type": "stream",
          "text": [
            "* * * * \n",
            "* * * * \n",
            "* * * * \n",
            "* * * * \n"
          ]
        }
      ],
      "source": [
        "for i in range(4):\n",
        "  for j in range (4):\n",
        "    print(\"*\",end= \" \")\n",
        "  print()\n",
        "\n"
      ]
    },
    {
      "cell_type": "code",
      "execution_count": null,
      "metadata": {
        "colab": {
          "base_uri": "https://localhost:8080/"
        },
        "id": "9gW0HNapyDLx",
        "outputId": "ce337910-3d8a-4488-9316-5c6c78d45d79"
      },
      "outputs": [
        {
          "name": "stdout",
          "output_type": "stream",
          "text": [
            "* \n",
            "* * \n",
            "* * * \n",
            "* * * * \n"
          ]
        }
      ],
      "source": [
        "for i in range(4):\n",
        "  for j in range (i+1):\n",
        "    print(\"*\",end= \" \")\n",
        "  print()\n"
      ]
    },
    {
      "cell_type": "code",
      "execution_count": null,
      "metadata": {
        "colab": {
          "base_uri": "https://localhost:8080/"
        },
        "id": "zVaMe2Fe5l1S",
        "outputId": "bc711516-d139-48df-ee86-f392bc3cec79"
      },
      "outputs": [
        {
          "name": "stdout",
          "output_type": "stream",
          "text": [
            "* * * * \n",
            "* * * \n",
            "* * \n",
            "* \n"
          ]
        }
      ],
      "source": [
        "for i in range(4):\n",
        "  for j in range (i,4):\n",
        "    print(\"*\",end= \" \")\n",
        "  print()\n"
      ]
    },
    {
      "cell_type": "code",
      "execution_count": null,
      "metadata": {
        "colab": {
          "base_uri": "https://localhost:8080/"
        },
        "id": "v7L60sQ56Jap",
        "outputId": "e3e01054-74ef-4c7e-e2b3-134ba2da22f5"
      },
      "outputs": [
        {
          "name": "stdout",
          "output_type": "stream",
          "text": [
            "    \n",
            "* * * * * * * * * * \n",
            "   \n",
            "* * * * * * * * * * \n",
            "  \n",
            "* * * * * * * * * * \n",
            " \n",
            "* * * * * * * * * * \n"
          ]
        }
      ],
      "source": [
        "for i in range(4):\n",
        "  for j in range (i,4):\n",
        "    print(\" \",end= \"\")\n",
        "  print()\n",
        "  for i in range(4):\n",
        "     for j in range (i+1):\n",
        "      print(\"*\",end= \" \")\n",
        "  print()\n"
      ]
    },
    {
      "cell_type": "code",
      "execution_count": null,
      "metadata": {
        "colab": {
          "base_uri": "https://localhost:8080/"
        },
        "id": "L3a8hn3k58p2",
        "outputId": "4b89f458-c55b-426c-a434-b49e0514f49f"
      },
      "outputs": [
        {
          "output_type": "stream",
          "name": "stdout",
          "text": [
            "a\n",
            "vowel\n",
            "consonent\n"
          ]
        }
      ],
      "source": [
        "ch = input()\n",
        "if ch ==\"a\":\n",
        "  print(\"vowel\")\n",
        "if ch ==\"e\":\n",
        "  print(\"vowel\")\n",
        "if ch==\"i\":\n",
        "  print(\"vowel\")\n",
        "if ch==\"o\":\n",
        "  print(\"vowel\")\n",
        "if ch==\"u\":\n",
        "  print(\"vowel\")\n",
        "else:\n",
        "    print(\"consonent\")\n",
        "\n"
      ]
    },
    {
      "cell_type": "code",
      "source": [],
      "metadata": {
        "id": "Z5vnGvO5Wo1L"
      },
      "execution_count": null,
      "outputs": []
    },
    {
      "cell_type": "code",
      "source": [
        "pi = 3.14159\n",
        "\n",
        "# Take the input as radius from the user\n",
        "radius = float(input(\"Enter the radius of the circle: \"))\n",
        "\n",
        "# Calculate the area of the circle\n",
        "area = pi * radius**2\n",
        "\n",
        "# Print the result\n",
        "print(f\"The area of the circle with radius {radius} is: {area}\")\n"
      ],
      "metadata": {
        "colab": {
          "base_uri": "https://localhost:8080/"
        },
        "id": "Gs63wD3vWtnr",
        "outputId": "02b8bda4-1e95-4544-d410-fcb07c470791"
      },
      "execution_count": null,
      "outputs": [
        {
          "output_type": "stream",
          "name": "stdout",
          "text": [
            "Enter the radius of the circle: 3\n",
            "The area of the circle with radius 3.0 is: 28.27431\n"
          ]
        }
      ]
    },
    {
      "cell_type": "code",
      "source": [
        "string1 = input(\"Enter the first string: \")\n",
        "\n",
        "\n",
        "# Check if the strings are palindromes\n",
        "is_palindrome1 = string1 == string1[::-1]\n",
        "\n",
        "# Print the results\n",
        "print(f\"{string1} is a palindrome: {is_palindrome1}\")"
      ],
      "metadata": {
        "colab": {
          "base_uri": "https://localhost:8080/"
        },
        "id": "EUvZVRL2ZIhd",
        "outputId": "91d566f9-13ac-4973-e08d-2f5e52fe2ac2"
      },
      "execution_count": null,
      "outputs": [
        {
          "output_type": "stream",
          "name": "stdout",
          "text": [
            "Enter the first string: Palindrome\n",
            "Palindrome is a palindrome: False\n"
          ]
        }
      ]
    },
    {
      "cell_type": "code",
      "source": [
        "class Student:\n",
        "  name=\"Raj kumar\"\n",
        "obj=Student()\n",
        "print(obj.name)"
      ],
      "metadata": {
        "colab": {
          "base_uri": "https://localhost:8080/"
        },
        "id": "N-vZb11z9B8p",
        "outputId": "bfe2a7d7-f3e5-4619-f11e-cb605a5b411d"
      },
      "execution_count": null,
      "outputs": [
        {
          "output_type": "stream",
          "name": "stdout",
          "text": [
            "Raj kumar\n"
          ]
        }
      ]
    },
    {
      "cell_type": "code",
      "source": [
        "from typing import ClassVar\n",
        "def __init__(self,name,color):\n",
        "  class car:\n",
        "    self.name=name\n",
        "    self.color=color\n",
        "    print(\"Go\")\n",
        "\n",
        "obj1=(\"Ferrari\",\"red\")\n",
        "obj2=(\"Honda\",\"Black\")\n",
        "print(obj2)\n",
        "print(obj1)\n",
        "print(obj.name)\n",
        "\n",
        "\n"
      ],
      "metadata": {
        "colab": {
          "base_uri": "https://localhost:8080/"
        },
        "id": "V8CCDuXfLLZc",
        "outputId": "4e0ab13f-4258-4c13-cb62-c35f619b08a0"
      },
      "execution_count": null,
      "outputs": [
        {
          "output_type": "stream",
          "name": "stdout",
          "text": [
            "('Honda', 'Black')\n",
            "('Ferrari', 'red')\n",
            "Raj kumar\n"
          ]
        }
      ]
    },
    {
      "cell_type": "code",
      "source": [
        "x=10\n",
        "x=\"12\"\n",
        "print(type(x))\n"
      ],
      "metadata": {
        "colab": {
          "base_uri": "https://localhost:8080/"
        },
        "id": "5V7ziKARewv6",
        "outputId": "3decb30d-3319-4029-d025-b3b03e25a24c"
      },
      "execution_count": null,
      "outputs": [
        {
          "output_type": "stream",
          "name": "stdout",
          "text": [
            "<class 'str'>\n"
          ]
        }
      ]
    },
    {
      "cell_type": "code",
      "source": [
        "class Computer:\n",
        "  def config(self):\n",
        "    print(\"i5,16gb,1TB\")\n",
        "com1=Computer()\n",
        "Computer.config(com1)\n",
        "com1.config()"
      ],
      "metadata": {
        "colab": {
          "base_uri": "https://localhost:8080/"
        },
        "id": "_kGdefGojLQT",
        "outputId": "2ba4d90d-4382-4add-8977-3560e635b6e5"
      },
      "execution_count": null,
      "outputs": [
        {
          "output_type": "stream",
          "name": "stdout",
          "text": [
            "i5,16gb,1TB\n",
            "i5,16gb,1TB\n"
          ]
        }
      ]
    },
    {
      "cell_type": "code",
      "source": [
        "class Computer:\n",
        "  def __init__(self,cpu,ram):\n",
        "    self.cpu=cpu\n",
        "    self.ram=ram\n",
        "com1=Computer(\"i5\",16)\n",
        "print(id(com1))"
      ],
      "metadata": {
        "colab": {
          "base_uri": "https://localhost:8080/"
        },
        "id": "sTHKt2qUnTJK",
        "outputId": "d5e4d68a-366b-46f9-e00a-4487d16fa147"
      },
      "execution_count": null,
      "outputs": [
        {
          "output_type": "stream",
          "name": "stdout",
          "text": [
            "136945883355824\n"
          ]
        }
      ]
    },
    {
      "cell_type": "code",
      "source": [
        "class MyClass:\n",
        "  variable1=\"Raj\"\n",
        "  variable2=\"Danger\"\n",
        "def my_Method(self):\n",
        "  print(\"Hello Im danger\")\n",
        "Obj=MyClass()\n",
        "print(Obj.variable1)\n",
        "print(Obj.variable2)"
      ],
      "metadata": {
        "id": "IQ-dzYnT5Z9v",
        "colab": {
          "base_uri": "https://localhost:8080/"
        },
        "outputId": "32a75bf0-7815-4e74-a583-2e16ef541574"
      },
      "execution_count": null,
      "outputs": [
        {
          "output_type": "stream",
          "name": "stdout",
          "text": [
            "Raj\n",
            "Danger\n"
          ]
        }
      ]
    },
    {
      "cell_type": "code",
      "source": [
        "class Car:\n",
        "  def __init__(self,color,Model):\n",
        "    self.color=color\n",
        "    self.Model=Model\n",
        "Cars=Car(\"Red\",\"Ferrari\")\n",
        "print(Cars.color)\n",
        "print(Cars.Model)"
      ],
      "metadata": {
        "colab": {
          "base_uri": "https://localhost:8080/"
        },
        "id": "l3h_JtkmSlrg",
        "outputId": "85594ba4-4710-4dd2-9502-db631e5e75d8"
      },
      "execution_count": null,
      "outputs": [
        {
          "output_type": "stream",
          "name": "stdout",
          "text": [
            "Red\n",
            "Ferrari\n"
          ]
        }
      ]
    },
    {
      "cell_type": "code",
      "source": [
        "class Person:\n",
        "    def __init__(self, name, age):\n",
        "        self.name = name\n",
        "        self.age = age\n",
        "\n",
        "    def greet(self):\n",
        "        print(\"Hello, my name is\", self.name)\n",
        "person = Person(\"John\", 30)\n",
        "person.greet()"
      ],
      "metadata": {
        "colab": {
          "base_uri": "https://localhost:8080/"
        },
        "id": "wHdq6Yd0lnLd",
        "outputId": "120da535-a87a-43fc-b9ea-d9477d0209bb"
      },
      "execution_count": null,
      "outputs": [
        {
          "output_type": "stream",
          "name": "stdout",
          "text": [
            "Hello, my name is John\n"
          ]
        }
      ]
    },
    {
      "cell_type": "code",
      "source": [
        "class Robot:\n",
        "  def __init__(self,name,version):\n",
        "    self.name = name\n",
        "    self.version = version\n",
        "  def greet(self):\n",
        "    print(\"Hi i am\",self.name)\n",
        "robot=Robot(\"Chitti\",2.45)\n",
        "robot.greet()\n"
      ],
      "metadata": {
        "colab": {
          "base_uri": "https://localhost:8080/"
        },
        "id": "H2Kj9BqeN4pk",
        "outputId": "c0740938-5325-4407-ae06-e06cbc7077ad"
      },
      "execution_count": null,
      "outputs": [
        {
          "output_type": "stream",
          "name": "stdout",
          "text": [
            "Hi i am Chitti\n"
          ]
        }
      ]
    },
    {
      "cell_type": "code",
      "source": [
        "class Student:\n",
        "  def __init__(self,m1,m2,m3):\n",
        "    self.m1=m1\n",
        "    self.m2=m2\n",
        "    self.m3=m3\n",
        "  def avg(self):\n",
        "    return(self.m1+self.m2+self.m3)/3\n",
        "s1=Student(34,43,44)\n",
        "s2=Student(87,54,66)\n",
        "print(s1.avg())\n",
        "\n"
      ],
      "metadata": {
        "colab": {
          "base_uri": "https://localhost:8080/"
        },
        "id": "7Y5ZoGe84rpH",
        "outputId": "8433d73f-5e44-451c-b3db-d735e59b40f1"
      },
      "execution_count": null,
      "outputs": [
        {
          "output_type": "stream",
          "name": "stdout",
          "text": [
            "40.333333333333336\n"
          ]
        }
      ]
    },
    {
      "cell_type": "code",
      "source": [
        "class Calculator:\n",
        "  def __init__(self):\n",
        "    self.result=0\n",
        "  def add(self,num1,num2):\n",
        "    self.result=num1+num2\n",
        "    return self.result\n",
        "  def subtract(self,num1,num2):\n",
        "    self.result=num1-num2\n",
        "    return self.result\n",
        "  def multiplication(self,num1,num2):\n",
        "    self.result=num1*num2\n",
        "    return self.result\n",
        "  def division(self,num1,num2):\n",
        "    if num2 == 0:\n",
        "      raise ValueError(\"Cannot divide by Zero\")\n",
        "    self.result=num1/num2\n",
        "    return self.result\n",
        "  def clear(self):\n",
        "    self.result=0\n",
        "    return self.result\n",
        "Cal=Calculator()\n",
        "addition=Cal.add(2,3)\n",
        "subtraction=Cal.subtract(2,3)\n",
        "print(addition)\n",
        "print(subtraction)\n"
      ],
      "metadata": {
        "colab": {
          "base_uri": "https://localhost:8080/"
        },
        "id": "-PR-FPSLYIC4",
        "outputId": "0ad58d83-3ec5-4f6b-d9cf-d0126af42d80"
      },
      "execution_count": null,
      "outputs": [
        {
          "output_type": "stream",
          "name": "stdout",
          "text": [
            "5\n",
            "-1\n"
          ]
        }
      ]
    },
    {
      "cell_type": "code",
      "source": [
        "class Pet:\n",
        "  def __init__(self,name,age,energy_level):\n",
        "    self.name=name\n",
        "    self.age=age\n",
        "    self.energy_level=energy_level\n",
        "  def feed(self):\n",
        "    self.energy_level+=10\n",
        "  def play(self):\n",
        "    self.energy_level-=5\n",
        "  def check_health(self):\n",
        "    if self.energy_level<50:\n",
        "      print(\"Your pet is not feeling well\")\n",
        "    else:\n",
        "      print(\"Your pet is healthy\")\n",
        "pet1=Pet(\"Rocky\",22,32)\n",
        "pet1.feed()\n",
        "pet1.play()\n",
        "pet1.check_health()\n",
        "print(pet1.name)\n",
        "print(pet1.age)\n",
        "print(pet1.energy_level)\n",
        "\n"
      ],
      "metadata": {
        "colab": {
          "base_uri": "https://localhost:8080/"
        },
        "id": "SjJeJh-7SwDc",
        "outputId": "cf2eac7c-c6cb-4eb2-9fbe-4ac7408b235e"
      },
      "execution_count": null,
      "outputs": [
        {
          "output_type": "stream",
          "name": "stdout",
          "text": [
            "Your pet is not feeling well\n",
            "Rocky\n",
            "22\n",
            "37\n"
          ]
        }
      ]
    },
    {
      "cell_type": "code",
      "source": [
        "class Vehicle:\n",
        "    def __init__(self, make, model, year):\n",
        "        self.make = make\n",
        "        self.model = model\n",
        "        self.year = year\n",
        "\n",
        "    def start_engine(self):\n",
        "        print(\"Starting engine...\")\n",
        "class Car(Vehicle):\n",
        "  def __init__(self,make,model,year,doors):\n",
        "    self.doors=doors\n",
        "  def drive(self):\n",
        "    print(\"Driving the Car\")\n",
        "vehicle=Vehicle(\"Ferrari\",22,23)\n",
        "car=Car(\"Lambo\",3,34,2)\n",
        "car.start_engine()\n",
        "car.drive()\n",
        "\n",
        "\n",
        "\n",
        "\n",
        "\n",
        "\n",
        "\n",
        "\n",
        "\n"
      ],
      "metadata": {
        "id": "nuAhk0HMTg0_",
        "colab": {
          "base_uri": "https://localhost:8080/"
        },
        "outputId": "bd2161b8-8ddb-4564-c0be-745ab3837e84"
      },
      "execution_count": null,
      "outputs": [
        {
          "output_type": "stream",
          "name": "stdout",
          "text": [
            "Starting engine...\n",
            "Driving the Car\n"
          ]
        }
      ]
    }
  ],
  "metadata": {
    "colab": {
      "provenance": [],
      "authorship_tag": "ABX9TyN05ffaDQ6cYvIff3w8tk/T",
      "include_colab_link": true
    },
    "kernelspec": {
      "display_name": "Python 3",
      "name": "python3"
    },
    "language_info": {
      "name": "python"
    }
  },
  "nbformat": 4,
  "nbformat_minor": 0
}