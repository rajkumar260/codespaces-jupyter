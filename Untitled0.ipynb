{
  "nbformat": 4,
  "nbformat_minor": 0,
  "metadata": {
    "colab": {
      "provenance": [],
      "authorship_tag": "ABX9TyOETACQ+vKXYLJBdko+N5q8",
      "include_colab_link": true
    },
    "kernelspec": {
      "name": "python3",
      "display_name": "Python 3"
    },
    "language_info": {
      "name": "python"
    }
  },
  "cells": [
    {
      "cell_type": "markdown",
      "metadata": {
        "id": "view-in-github",
        "colab_type": "text"
      },
      "source": [
        "<a href=\"https://colab.research.google.com/github/rajkumar260/codespaces-jupyter/blob/main/Untitled0.ipynb\" target=\"_parent\"><img src=\"https://colab.research.google.com/assets/colab-badge.svg\" alt=\"Open In Colab\"/></a>"
      ]
    },
    {
      "cell_type": "code",
      "execution_count": null,
      "metadata": {
        "colab": {
          "base_uri": "https://localhost:8080/"
        },
        "id": "OPZnYzS7AOCH",
        "outputId": "22b7a1a0-b105-4ee5-e1e5-1bed26d8bbb3"
      },
      "outputs": [
        {
          "output_type": "stream",
          "name": "stdout",
          "text": [
            "Hello raj\n",
            "17\n",
            "True\n"
          ]
        },
        {
          "output_type": "execute_result",
          "data": {
            "text/plain": [
              "9.8"
            ]
          },
          "metadata": {},
          "execution_count": 21
        }
      ],
      "source": [
        "\n",
        "print(\"Hello raj\")\n",
        "x=8\n",
        "y=9\n",
        "print(x+y)\n",
        "x>y\n",
        "print(x<y)\n",
        "x<y\n",
        "type(7.9)\n",
        "2174237489216429749027429087420749274712738927397397329072890478904790479490497498479287657448676594947492839048829742801280312974028412848971412340249123742401274\n",
        "3*3+4/5"
      ]
    },
    {
      "cell_type": "markdown",
      "source": [
        "# New Section"
      ],
      "metadata": {
        "id": "ZkSO-bAIzO3V"
      }
    },
    {
      "cell_type": "code",
      "source": [
        "6*3+1*1+1*0"
      ],
      "metadata": {
        "colab": {
          "base_uri": "https://localhost:8080/"
        },
        "id": "-JTqAix1GVzQ",
        "outputId": "1f3d8140-35d1-4763-f529-eb56a6390bde"
      },
      "execution_count": null,
      "outputs": [
        {
          "output_type": "execute_result",
          "data": {
            "text/plain": [
              "19"
            ]
          },
          "metadata": {},
          "execution_count": 23
        }
      ]
    },
    {
      "cell_type": "code",
      "source": [
        "london_points=(6*3)+(1*1)+(2*0)\n",
        "print(london_points)\n"
      ],
      "metadata": {
        "colab": {
          "base_uri": "https://localhost:8080/"
        },
        "id": "vAhA2lT_HlX_",
        "outputId": "ed5580db-a99f-45b8-a5d5-3c078701bb53"
      },
      "execution_count": null,
      "outputs": [
        {
          "output_type": "stream",
          "name": "stdout",
          "text": [
            "19\n"
          ]
        }
      ]
    },
    {
      "cell_type": "code",
      "source": [
        "x=5\n",
        "y=8\n",
        "if(x>y):\n",
        "  print(\"x is greater than y\")\n",
        "else:\n",
        "  print(\"x is lesser than y \")\n",
        "if(x>0):\n",
        "  print(\"x is positive number\")"
      ],
      "metadata": {
        "colab": {
          "base_uri": "https://localhost:8080/"
        },
        "id": "F4QK7MWbQHa6",
        "outputId": "a557a91f-3b1b-417f-fc9d-2d9647cd0cf8"
      },
      "execution_count": null,
      "outputs": [
        {
          "output_type": "stream",
          "name": "stdout",
          "text": [
            "x is lesser than y \n",
            "x is positive number\n"
          ]
        }
      ]
    },
    {
      "cell_type": "code",
      "source": [
        "x=-1\n",
        "Fn_at_minus1=x**2 + 3*x - 4\n",
        "print(Fn_at_minus1)\n",
        "x=2\n",
        "Fn_at_2=x**2 + 3*x - 4\n",
        "print(Fn_at_2)\n",
        "print(Fn_at_2==0)\n",
        "print(Fn_at_minus1==0)\n",
        "print(Fn_at_minus1==-6)"
      ],
      "metadata": {
        "colab": {
          "base_uri": "https://localhost:8080/"
        },
        "id": "85l564h30WT4",
        "outputId": "23d9bff5-9ba0-4dba-9c92-a009a5b48d77"
      },
      "execution_count": null,
      "outputs": [
        {
          "output_type": "stream",
          "name": "stdout",
          "text": [
            "-6\n",
            "6\n",
            "False\n",
            "False\n",
            "True\n"
          ]
        }
      ]
    },
    {
      "cell_type": "code",
      "source": [
        "Don=\"raj\"\n",
        "type(Don)\n",
        "Don=3\n",
        "type(Don)\n",
        "text=\"my name is raj\\ni am danger\"\n",
        "print(text)\n",
        "name=\"Hello im Raj\"\n",
        "len(name)\n",
        "name.count(\"H\")\n",
        "h_count=name.count(\"H\")\n",
        "\n",
        "print(\"the total no. of count of H is\"+str(h_count))"
      ],
      "metadata": {
        "id": "ueqkfkxm2Ueu",
        "colab": {
          "base_uri": "https://localhost:8080/"
        },
        "outputId": "0cb45ef9-1da0-40fd-f918-2978edbb8fd8"
      },
      "execution_count": null,
      "outputs": [
        {
          "output_type": "stream",
          "name": "stdout",
          "text": [
            "my name is raj\n",
            "i am danger\n",
            "the total no. of count of H is1\n"
          ]
        }
      ]
    },
    {
      "cell_type": "code",
      "source": [
        "my_list=[1,\"23\",True,False,\"RAj\",\"RAj\"]\n",
        "print(my_list)\n",
        "my_list[2]=\"Raj\"\n",
        "print(my_list)"
      ],
      "metadata": {
        "colab": {
          "base_uri": "https://localhost:8080/"
        },
        "id": "lfI1zKfsVAjf",
        "outputId": "124a90c5-c20e-4e08-aec7-6241a7dc49cf"
      },
      "execution_count": null,
      "outputs": [
        {
          "output_type": "stream",
          "name": "stdout",
          "text": [
            "[1, '23', True, False, 'RAj', 'RAj']\n",
            "[1, '23', 'Raj', False, 'RAj', 'RAj']\n"
          ]
        }
      ]
    },
    {
      "cell_type": "code",
      "source": [
        "new_list=[\"raj\",0,False,True]\n",
        "len(new_list)"
      ],
      "metadata": {
        "colab": {
          "base_uri": "https://localhost:8080/"
        },
        "id": "CsUIpX4Ic7-4",
        "outputId": "31a14ab5-94e1-4fa0-ead0-0cb0ee329d76"
      },
      "execution_count": null,
      "outputs": [
        {
          "output_type": "execute_result",
          "data": {
            "text/plain": [
              "4"
            ]
          },
          "metadata": {},
          "execution_count": 7
        }
      ]
    },
    {
      "cell_type": "code",
      "source": [
        "new_list=[0,7,8,6]\n",
        "sum(new_list)"
      ],
      "metadata": {
        "colab": {
          "base_uri": "https://localhost:8080/"
        },
        "id": "_1YA19aAdKpe",
        "outputId": "f4c0c458-cb3b-49d5-ca89-9d704ef490fa"
      },
      "execution_count": null,
      "outputs": [
        {
          "output_type": "execute_result",
          "data": {
            "text/plain": [
              "21"
            ]
          },
          "metadata": {},
          "execution_count": 10
        }
      ]
    },
    {
      "cell_type": "code",
      "source": [
        "marks=[5,5,7,9,8,4,9,0]\n",
        "average=sum(marks)/len(marks)\n",
        "print(average)"
      ],
      "metadata": {
        "colab": {
          "base_uri": "https://localhost:8080/"
        },
        "id": "Cd6qtf76eEPW",
        "outputId": "82a2c9d6-e2ce-44d7-eab9-70745c8c4b87"
      },
      "execution_count": null,
      "outputs": [
        {
          "output_type": "stream",
          "name": "stdout",
          "text": [
            "5.875\n"
          ]
        }
      ]
    },
    {
      "cell_type": "code",
      "source": [
        "my_tuple=(6,6.5)\n",
        "print(my_tuple)\n",
        "len(my_tuple)\n",
        "sum(my_tuple)"
      ],
      "metadata": {
        "colab": {
          "base_uri": "https://localhost:8080/"
        },
        "id": "EUs_CZ30gnDf",
        "outputId": "ce812cdd-291b-4001-f303-d6c0636dd076"
      },
      "execution_count": null,
      "outputs": [
        {
          "output_type": "stream",
          "name": "stdout",
          "text": [
            "(6, 6.5)\n"
          ]
        },
        {
          "output_type": "execute_result",
          "data": {
            "text/plain": [
              "12.5"
            ]
          },
          "metadata": {},
          "execution_count": 18
        }
      ]
    },
    {
      "cell_type": "code",
      "source": [
        "Student_info={\"Name\":\"Raj\",\"Roll no.\":21,\"DOB\":2000}\n",
        "print(Student_info)\n",
        "Student_info[\"DOB\"]\n",
        "Student_info[\"Name\"]\n",
        "Student_info[\"Roll no.\"]\n",
        "len(Student_info)\n",
        "type(Student_info)\n",
        "Student_info[\"Name\"]=Student_info[\"Name\"]   +  \"kumar\"\n",
        "Student_info[\"Name\"]\n",
        "Student_info['DOB']=1999\n",
        "Student_info['DOB']\n",
        "print(Student_info)\n",
        "Student_info.keys()\n",
        "Student_info.values()\n",
        "list(Student_info.values())"
      ],
      "metadata": {
        "colab": {
          "base_uri": "https://localhost:8080/"
        },
        "id": "kb4UZ8iHTXh_",
        "outputId": "6c7bf92a-8912-4ffa-84d4-3dc6ea111f31"
      },
      "execution_count": null,
      "outputs": [
        {
          "output_type": "stream",
          "name": "stdout",
          "text": [
            "{'Name': 'Raj', 'Roll no.': 21, 'DOB': 2000}\n",
            "{'Name': 'Rajkumar', 'Roll no.': 21, 'DOB': 1999}\n"
          ]
        },
        {
          "output_type": "execute_result",
          "data": {
            "text/plain": [
              "['Rajkumar', 21, 1999]"
            ]
          },
          "metadata": {},
          "execution_count": 22
        }
      ]
    },
    {
      "cell_type": "code",
      "source": [
        "fruits = ['Mango', 'Mango', 'Guava', 'Apple', 'Grapes', 'Guava']\n",
        "fruit_ = {}\n",
        "fruit_['Mango'] = fruits.count('Mango')\n",
        "fruit_['Guava'] = fruits.count('Guava')\n",
        "fruit_['Apple'] = fruits.count('Apple')\n",
        "fruit_['Grapes'] = fruits.count('Grapes')\n",
        "print(fruit_)\n",
        "\n",
        "\n",
        "\n",
        "\n",
        "\n",
        "\n",
        "\n",
        "\n",
        "\n",
        "\n"
      ],
      "metadata": {
        "colab": {
          "base_uri": "https://localhost:8080/"
        },
        "id": "bzFaofr5chRO",
        "outputId": "8d9d90d5-8e65-4fe8-a1c7-405d1e2d45a6"
      },
      "execution_count": null,
      "outputs": [
        {
          "output_type": "stream",
          "name": "stdout",
          "text": [
            "{'Mango': 2, 'Guava': 2, 'Apple': 1, 'Grapes': 1}\n"
          ]
        }
      ]
    },
    {
      "cell_type": "code",
      "source": [
        "name=\"Raj Kumar\"\n",
        "print(name[0])\n",
        "print(name[1])\n",
        "print(name[2])\n",
        "print(name[3])\n",
        "print(name[5])\n",
        "print(name[-6])\n",
        "number=\"123456_=+}|{:}\"\n",
        "print(number[8])"
      ],
      "metadata": {
        "colab": {
          "base_uri": "https://localhost:8080/"
        },
        "id": "tsKbLEI9N7AW",
        "outputId": "884a379b-9522-4a04-df9f-bdd5d90a5b50"
      },
      "execution_count": null,
      "outputs": [
        {
          "output_type": "stream",
          "name": "stdout",
          "text": [
            "R\n",
            "a\n",
            "j\n",
            " \n",
            "u\n",
            " \n",
            "+\n"
          ]
        }
      ]
    },
    {
      "cell_type": "code",
      "source": [
        "my_tuple=(1,2,\"Raj\",\"Thomas\")\n",
        "print(my_tuple[0])\n",
        "print(my_tuple[1])\n",
        "print(my_tuple[2])\n",
        "print(my_tuple[3])\n",
        "print(my_tuple[-1])\n"
      ],
      "metadata": {
        "colab": {
          "base_uri": "https://localhost:8080/"
        },
        "id": "7OppYc1hURQ7",
        "outputId": "b34f7e48-d7ab-4a5d-ccaa-a995806f6e05"
      },
      "execution_count": null,
      "outputs": [
        {
          "output_type": "stream",
          "name": "stdout",
          "text": [
            "1\n",
            "2\n",
            "Raj\n",
            "Thomas\n",
            "Thomas\n"
          ]
        }
      ]
    },
    {
      "cell_type": "code",
      "source": [
        "my_list=[\"raj\",\"Thomas\",\"Mason\",2]\n",
        "print(my_list[0])\n",
        "print(my_list[1])\n",
        "print(my_list[2])\n",
        "print(my_list[3])\n",
        "print(my_list[3])\n",
        "my_list[1]=45\n",
        "print(my_list)\n",
        "my_list.index(\"raj\")\n",
        "my_list.index(2)"
      ],
      "metadata": {
        "colab": {
          "base_uri": "https://localhost:8080/"
        },
        "id": "xhPQAkQvW-aD",
        "outputId": "fe9c1c4b-a197-49d3-cc6e-ced572a65288"
      },
      "execution_count": null,
      "outputs": [
        {
          "output_type": "stream",
          "name": "stdout",
          "text": [
            "raj\n",
            "Thomas\n",
            "Mason\n",
            "2\n",
            "2\n",
            "['raj', 45, 'Mason', 2]\n"
          ]
        },
        {
          "output_type": "execute_result",
          "data": {
            "text/plain": [
              "3"
            ]
          },
          "metadata": {},
          "execution_count": 25
        }
      ]
    },
    {
      "cell_type": "code",
      "source": [
        "my_dict={\"name\":\"raj\",\"age\":23}\n",
        "print(my_dict[\"name\"])\n",
        "print(my_dict[\"age\"])"
      ],
      "metadata": {
        "colab": {
          "base_uri": "https://localhost:8080/"
        },
        "id": "R9_VNgcrzBpg",
        "outputId": "943d41ef-5124-4532-d218-52d69b9bbc23"
      },
      "execution_count": null,
      "outputs": [
        {
          "output_type": "stream",
          "name": "stdout",
          "text": [
            "raj\n",
            "23\n"
          ]
        }
      ]
    },
    {
      "cell_type": "code",
      "source": [
        "name=\"raja\"\n",
        "name[1:3]\n",
        "name[:]\n",
        "name[0:2]\n",
        "name[-4:-2]\n",
        "name[:3]\n",
        "name[3:]\n",
        "name[-2:-4]\n",
        "name[-1:2]\n"
      ],
      "metadata": {
        "colab": {
          "base_uri": "https://localhost:8080/",
          "height": 35
        },
        "id": "IxH4kXyJ9NIg",
        "outputId": "9e6ac237-2a7e-464c-f6b3-6a2f29c4ce56"
      },
      "execution_count": null,
      "outputs": [
        {
          "output_type": "execute_result",
          "data": {
            "text/plain": [
              "''"
            ],
            "application/vnd.google.colaboratory.intrinsic+json": {
              "type": "string"
            }
          },
          "metadata": {},
          "execution_count": 15
        }
      ]
    },
    {
      "cell_type": "code",
      "source": [],
      "metadata": {
        "id": "dRGK-Ftpzsl4"
      },
      "execution_count": null,
      "outputs": []
    },
    {
      "cell_type": "code",
      "source": [
        "var=\"umbrella\"\n",
        "var[0::3]\n",
        "var[0::2]\n",
        "var[::2]\n",
        "var[-4::-2]"
      ],
      "metadata": {
        "colab": {
          "base_uri": "https://localhost:8080/",
          "height": 35
        },
        "id": "lOEWzcAdC4L3",
        "outputId": "d9492f15-39e5-4447-ae9a-5fc376f39a89"
      },
      "execution_count": null,
      "outputs": [
        {
          "output_type": "execute_result",
          "data": {
            "text/plain": [
              "'ebu'"
            ],
            "application/vnd.google.colaboratory.intrinsic+json": {
              "type": "string"
            }
          },
          "metadata": {},
          "execution_count": 19
        }
      ]
    },
    {
      "cell_type": "code",
      "source": [
        "var=\"computer\"\n",
        "var[2:3:-2]"
      ],
      "metadata": {
        "colab": {
          "base_uri": "https://localhost:8080/",
          "height": 35
        },
        "id": "rnYapEJxTQnm",
        "outputId": "f2997761-b6fc-43c8-9e04-53814fa6a897"
      },
      "execution_count": null,
      "outputs": [
        {
          "output_type": "execute_result",
          "data": {
            "text/plain": [
              "''"
            ],
            "application/vnd.google.colaboratory.intrinsic+json": {
              "type": "string"
            }
          },
          "metadata": {},
          "execution_count": 1
        }
      ]
    },
    {
      "cell_type": "code",
      "source": [
        "text=\"Computer\"\n",
        "text[0:3:1]\n",
        "text[-5:-2:-1]"
      ],
      "metadata": {
        "colab": {
          "base_uri": "https://localhost:8080/",
          "height": 35
        },
        "id": "d4KQ9MW-ZGHI",
        "outputId": "8a95b648-9bc5-478b-841e-12af469d82e1"
      },
      "execution_count": null,
      "outputs": [
        {
          "output_type": "execute_result",
          "data": {
            "text/plain": [
              "''"
            ],
            "application/vnd.google.colaboratory.intrinsic+json": {
              "type": "string"
            }
          },
          "metadata": {},
          "execution_count": 5
        }
      ]
    },
    {
      "cell_type": "code",
      "source": [
        "var=\"strategy\"\n",
        "var[-1:-5:-1]"
      ],
      "metadata": {
        "colab": {
          "base_uri": "https://localhost:8080/",
          "height": 35
        },
        "id": "WK4FGSokgGwu",
        "outputId": "6cfbf093-b2fa-4ca5-9fd4-42d9528e0a5e"
      },
      "execution_count": null,
      "outputs": [
        {
          "output_type": "execute_result",
          "data": {
            "text/plain": [
              "'yget'"
            ],
            "application/vnd.google.colaboratory.intrinsic+json": {
              "type": "string"
            }
          },
          "metadata": {},
          "execution_count": 6
        }
      ]
    },
    {
      "cell_type": "code",
      "source": [
        "var=\"python\"\n",
        "var[-1:-5:-1]"
      ],
      "metadata": {
        "colab": {
          "base_uri": "https://localhost:8080/",
          "height": 35
        },
        "id": "Nz05Xtvoi3n9",
        "outputId": "76d18044-b814-40df-a9e1-cf5f1b65984b"
      },
      "execution_count": null,
      "outputs": [
        {
          "output_type": "execute_result",
          "data": {
            "text/plain": [
              "'noht'"
            ],
            "application/vnd.google.colaboratory.intrinsic+json": {
              "type": "string"
            }
          },
          "metadata": {},
          "execution_count": 11
        }
      ]
    },
    {
      "cell_type": "code",
      "source": [
        "var=\"Ranjan\"\n",
        "var[1: :2]"
      ],
      "metadata": {
        "colab": {
          "base_uri": "https://localhost:8080/",
          "height": 35
        },
        "id": "jSG_Oy_Slf_0",
        "outputId": "27d612b2-1352-4755-d330-0f117171a316"
      },
      "execution_count": null,
      "outputs": [
        {
          "output_type": "execute_result",
          "data": {
            "text/plain": [
              "'ajn'"
            ],
            "application/vnd.google.colaboratory.intrinsic+json": {
              "type": "string"
            }
          },
          "metadata": {},
          "execution_count": 12
        }
      ]
    },
    {
      "cell_type": "code",
      "source": [
        "a=5\n",
        "b=a\n",
        "print(a is b)\n",
        "id(a)"
      ],
      "metadata": {
        "colab": {
          "base_uri": "https://localhost:8080/"
        },
        "id": "LmTgOCSpFFJC",
        "outputId": "7dd8a41f-93d5-4ce8-8300-713989b9a3dc"
      },
      "execution_count": null,
      "outputs": [
        {
          "output_type": "stream",
          "name": "stdout",
          "text": [
            "True\n"
          ]
        },
        {
          "output_type": "execute_result",
          "data": {
            "text/plain": [
              "140074095313264"
            ]
          },
          "metadata": {},
          "execution_count": 2
        }
      ]
    },
    {
      "cell_type": "code",
      "source": [
        "text=\"Hey I am here\"\n",
        "print(\"Hey\"in text)\n",
        "print(\"Raj\"in text)\n",
        "print(\"Raj\"not in text)\n",
        "print(\"am\"not in text)"
      ],
      "metadata": {
        "colab": {
          "base_uri": "https://localhost:8080/"
        },
        "id": "X_9Pk102MtpX",
        "outputId": "c7a066bc-3735-44bd-b72f-a215550dbf4d"
      },
      "execution_count": null,
      "outputs": [
        {
          "output_type": "stream",
          "name": "stdout",
          "text": [
            "True\n",
            "False\n",
            "True\n",
            "False\n"
          ]
        }
      ]
    },
    {
      "cell_type": "code",
      "source": [],
      "metadata": {
        "id": "xpveUT-9Xi8V"
      },
      "execution_count": null,
      "outputs": []
    }
  ]
}